{
 "cells": [
  {
   "cell_type": "code",
   "execution_count": 1,
   "metadata": {},
   "outputs": [
    {
     "name": "stdout",
     "output_type": "stream",
     "text": [
      "/Users/kiera/cs1430/duo-lingos\n"
     ]
    }
   ],
   "source": [
    "%cd .."
   ]
  },
  {
   "cell_type": "code",
   "execution_count": 2,
   "metadata": {},
   "outputs": [
    {
     "name": "stdout",
     "output_type": "stream",
     "text": [
      "loading data\n",
      "A 6.628481149673462 seconds\n",
      "B 6.832034111022949 seconds\n",
      "C 7.649682998657227 seconds\n",
      "D 7.455831050872803 seconds\n",
      "E 7.4829628467559814 seconds\n"
     ]
    }
   ],
   "source": [
    "from preprocess import split_train_validation_data, load_test_data\n",
    "print(\"loading data\")\n",
    "\n",
    "train_data, train_labels, val_data, val_labels = split_train_validation_data()\n",
    "print(f\"{len(train_data)} training samples loaded\")\n",
    "print(f\"{len(val_data)} validation samples loaded\")\n",
    "\n",
    "test_data, test_labels = load_test_data()\n",
    "print(f\"{len(test_data)} testing samples loaded\")\n",
    "\n",
    "data = {\"train_data\": train_data,\n",
    "        \"train_labels\": train_labels,\n",
    "        \"val_data\": val_data,\n",
    "        \"val_labels\": val_labels,\n",
    "        \"test_data\": test_data,\n",
    "        \"test_labels\": test_labels,\n",
    "        }"
   ]
  },
  {
   "cell_type": "code",
   "execution_count": null,
   "metadata": {},
   "outputs": [],
   "source": []
  }
 ],
 "metadata": {
  "kernelspec": {
   "display_name": "cs1430",
   "language": "python",
   "name": "python3"
  },
  "language_info": {
   "codemirror_mode": {
    "name": "ipython",
    "version": 3
   },
   "file_extension": ".py",
   "mimetype": "text/x-python",
   "name": "python",
   "nbconvert_exporter": "python",
   "pygments_lexer": "ipython3",
   "version": "3.9.15"
  },
  "orig_nbformat": 4
 },
 "nbformat": 4,
 "nbformat_minor": 2
}
